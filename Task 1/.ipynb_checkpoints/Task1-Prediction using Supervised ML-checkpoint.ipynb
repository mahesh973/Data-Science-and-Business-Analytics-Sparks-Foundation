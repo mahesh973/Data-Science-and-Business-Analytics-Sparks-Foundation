{
 "cells": [
  {
   "cell_type": "markdown",
   "metadata": {
    "id": "Vr0YwYYFXbGP"
   },
   "source": [
    "## **Task 1: Prediction using Supervised ML**\n",
    "\n",
    "### **Here, we will take a simple dataset and use it to predict the score a student will get if he studies for a set number of hours. the dataset is taken from http://bit.ly/w-data** \n",
    "\n",
    "### Done by Mahesh Babu"
   ]
  },
  {
   "cell_type": "markdown",
   "metadata": {},
   "source": [
    "### Step 1: Importing the dataset from the given link"
   ]
  },
  {
   "cell_type": "code",
   "execution_count": 8,
   "metadata": {
    "colab": {
     "base_uri": "https://localhost:8080/",
     "height": 204
    },
    "executionInfo": {
     "elapsed": 686,
     "status": "ok",
     "timestamp": 1622548951975,
     "user": {
      "displayName": "Quirky Accentuator",
      "photoUrl": "",
      "userId": "01762020074220621930"
     },
     "user_tz": -330
    },
    "id": "SwZng9d9Rl2o",
    "outputId": "2fc70848-a915-457a-bce4-9b14d57dae0d"
   },
   "outputs": [
    {
     "data": {
      "text/html": [
       "<div>\n",
       "<style scoped>\n",
       "    .dataframe tbody tr th:only-of-type {\n",
       "        vertical-align: middle;\n",
       "    }\n",
       "\n",
       "    .dataframe tbody tr th {\n",
       "        vertical-align: top;\n",
       "    }\n",
       "\n",
       "    .dataframe thead th {\n",
       "        text-align: right;\n",
       "    }\n",
       "</style>\n",
       "<table border=\"1\" class=\"dataframe\">\n",
       "  <thead>\n",
       "    <tr style=\"text-align: right;\">\n",
       "      <th></th>\n",
       "      <th>Hours</th>\n",
       "      <th>Scores</th>\n",
       "    </tr>\n",
       "  </thead>\n",
       "  <tbody>\n",
       "    <tr>\n",
       "      <th>0</th>\n",
       "      <td>2.5</td>\n",
       "      <td>21</td>\n",
       "    </tr>\n",
       "    <tr>\n",
       "      <th>1</th>\n",
       "      <td>5.1</td>\n",
       "      <td>47</td>\n",
       "    </tr>\n",
       "    <tr>\n",
       "      <th>2</th>\n",
       "      <td>3.2</td>\n",
       "      <td>27</td>\n",
       "    </tr>\n",
       "    <tr>\n",
       "      <th>3</th>\n",
       "      <td>8.5</td>\n",
       "      <td>75</td>\n",
       "    </tr>\n",
       "    <tr>\n",
       "      <th>4</th>\n",
       "      <td>3.5</td>\n",
       "      <td>30</td>\n",
       "    </tr>\n",
       "  </tbody>\n",
       "</table>\n",
       "</div>"
      ],
      "text/plain": [
       "   Hours  Scores\n",
       "0    2.5      21\n",
       "1    5.1      47\n",
       "2    3.2      27\n",
       "3    8.5      75\n",
       "4    3.5      30"
      ]
     },
     "execution_count": 8,
     "metadata": {},
     "output_type": "execute_result"
    }
   ],
   "source": [
    "#importing the dataset...\n",
    "import pandas as pd\n",
    "df = pd.read_csv('https://raw.githubusercontent.com/AdiPersonalWorks/Random/master/student_scores%20-%20student_scores.csv')\n",
    "df.head()"
   ]
  },
  {
   "cell_type": "code",
   "execution_count": 9,
   "metadata": {
    "colab": {
     "base_uri": "https://localhost:8080/",
     "height": 111
    },
    "executionInfo": {
     "elapsed": 12,
     "status": "ok",
     "timestamp": 1622548954146,
     "user": {
      "displayName": "Quirky Accentuator",
      "photoUrl": "",
      "userId": "01762020074220621930"
     },
     "user_tz": -330
    },
    "id": "AlZm_g-5Rsu-",
    "outputId": "1f5ab36c-f017-4b76-c29c-efb9952feaa6"
   },
   "outputs": [
    {
     "data": {
      "text/html": [
       "<div>\n",
       "<style scoped>\n",
       "    .dataframe tbody tr th:only-of-type {\n",
       "        vertical-align: middle;\n",
       "    }\n",
       "\n",
       "    .dataframe tbody tr th {\n",
       "        vertical-align: top;\n",
       "    }\n",
       "\n",
       "    .dataframe thead th {\n",
       "        text-align: right;\n",
       "    }\n",
       "</style>\n",
       "<table border=\"1\" class=\"dataframe\">\n",
       "  <thead>\n",
       "    <tr style=\"text-align: right;\">\n",
       "      <th></th>\n",
       "      <th>Hours</th>\n",
       "      <th>Scores</th>\n",
       "    </tr>\n",
       "  </thead>\n",
       "  <tbody>\n",
       "    <tr>\n",
       "      <th>Hours</th>\n",
       "      <td>1.000000</td>\n",
       "      <td>0.976191</td>\n",
       "    </tr>\n",
       "    <tr>\n",
       "      <th>Scores</th>\n",
       "      <td>0.976191</td>\n",
       "      <td>1.000000</td>\n",
       "    </tr>\n",
       "  </tbody>\n",
       "</table>\n",
       "</div>"
      ],
      "text/plain": [
       "           Hours    Scores\n",
       "Hours   1.000000  0.976191\n",
       "Scores  0.976191  1.000000"
      ]
     },
     "execution_count": 9,
     "metadata": {},
     "output_type": "execute_result"
    }
   ],
   "source": [
    "#correlation matrix b/w the two variables\n",
    "import matplotlib.pyplot as plt\n",
    "df.corr()"
   ]
  },
  {
   "cell_type": "code",
   "execution_count": 10,
   "metadata": {
    "executionInfo": {
     "elapsed": 7,
     "status": "ok",
     "timestamp": 1622548955965,
     "user": {
      "displayName": "Quirky Accentuator",
      "photoUrl": "",
      "userId": "01762020074220621930"
     },
     "user_tz": -330
    },
    "id": "0mRtNtX9S8oI"
   },
   "outputs": [],
   "source": [
    "#converting from type dataframe to type arrays\n",
    "X = df[['Hours']].values\n",
    "y = df['Scores'].values"
   ]
  },
  {
   "cell_type": "markdown",
   "metadata": {},
   "source": [
    "### Visualizing the data"
   ]
  },
  {
   "cell_type": "code",
   "execution_count": 11,
   "metadata": {
    "colab": {
     "base_uri": "https://localhost:8080/",
     "height": 312
    },
    "executionInfo": {
     "elapsed": 1253,
     "status": "ok",
     "timestamp": 1622548958625,
     "user": {
      "displayName": "Quirky Accentuator",
      "photoUrl": "",
      "userId": "01762020074220621930"
     },
     "user_tz": -330
    },
    "id": "EmZWd-WWTTcr",
    "outputId": "f11b66e6-c9a6-44a3-d511-1a09516b7197"
   },
   "outputs": [
    {
     "data": {
      "text/plain": [
       "Text(0.5, 1.0, 'correlation b/w hours and scores.')"
      ]
     },
     "execution_count": 11,
     "metadata": {},
     "output_type": "execute_result"
    },
    {
     "data": {
      "image/png": "[encoded data removed]",
      "text/plain": [
       "<Figure size 432x288 with 1 Axes>"
      ]
     },
     "metadata": {
      "needs_background": "light"
     },
     "output_type": "display_data"
    }
   ],
   "source": [
    "#Visualizing the data for better understanding\n",
    "plt.scatter(X, y)\n",
    "plt.xlabel('Hours')\n",
    "plt.ylabel('Scores')\n",
    "plt.title('correlation b/w hours and scores.')"
   ]
  },
  {
   "cell_type": "code",
   "execution_count": 12,
   "metadata": {
    "colab": {
     "base_uri": "https://localhost:8080/"
    },
    "executionInfo": {
     "elapsed": 12,
     "status": "ok",
     "timestamp": 1622548960698,
     "user": {
      "displayName": "Quirky Accentuator",
      "photoUrl": "",
      "userId": "01762020074220621930"
     },
     "user_tz": -330
    },
    "id": "vNBvvYDlTYbU",
    "outputId": "24ca3d6e-6035-4c84-9641-d632f97dc4b6"
   },
   "outputs": [
    {
     "data": {
      "text/plain": [
       "LinearRegression()"
      ]
     },
     "execution_count": 12,
     "metadata": {},
     "output_type": "execute_result"
    }
   ],
   "source": [
    "#Importing the Linear Regressor\n",
    "from sklearn.linear_model import LinearRegression\n",
    "lr = LinearRegression()\n",
    "lr.fit(X, y)"
   ]
  },
  {
   "cell_type": "code",
   "execution_count": 13,
   "metadata": {
    "colab": {
     "base_uri": "https://localhost:8080/"
    },
    "executionInfo": {
     "elapsed": 8,
     "status": "ok",
     "timestamp": 1622548963063,
     "user": {
      "displayName": "Quirky Accentuator",
      "photoUrl": "",
      "userId": "01762020074220621930"
     },
     "user_tz": -330
    },
    "id": "PzbVI-BvUM11",
    "outputId": "54b25ca0-b841-456e-9dee-7da89730dc0f"
   },
   "outputs": [
    {
     "data": {
      "text/plain": [
       "0.9529481969048356"
      ]
     },
     "execution_count": 13,
     "metadata": {},
     "output_type": "execute_result"
    }
   ],
   "source": [
    "#Performance Analysis of the algorithm\n",
    "lr.score(X, y)"
   ]
  },
  {
   "cell_type": "code",
   "execution_count": 14,
   "metadata": {
    "colab": {
     "base_uri": "https://localhost:8080/"
    },
    "executionInfo": {
     "elapsed": 10,
     "status": "ok",
     "timestamp": 1622548964860,
     "user": {
      "displayName": "Quirky Accentuator",
      "photoUrl": "",
      "userId": "01762020074220621930"
     },
     "user_tz": -330
    },
    "id": "Q4MstWj7UcaT",
    "outputId": "7a0ae001-f333-49b9-8901-c9e2fff8a25a"
   },
   "outputs": [
    {
     "data": {
      "text/plain": [
       "array([92.90985477])"
      ]
     },
     "execution_count": 14,
     "metadata": {},
     "output_type": "execute_result"
    }
   ],
   "source": [
    "#Predicting the score a student will get if he  \n",
    "lr.predict([[9.25]])"
   ]
  },
  {
   "cell_type": "code",
   "execution_count": 15,
   "metadata": {
    "executionInfo": {
     "elapsed": 9,
     "status": "ok",
     "timestamp": 1622548967081,
     "user": {
      "displayName": "Quirky Accentuator",
      "photoUrl": "",
      "userId": "01762020074220621930"
     },
     "user_tz": -330
    },
    "id": "SrBbtwInVWwX"
   },
   "outputs": [],
   "source": [
    "y_pred = lr.coef_ * X + lr.intercept_"
   ]
  },
  {
   "cell_type": "markdown",
   "metadata": {
    "id": "BEUI-6IHcCD-"
   },
   "source": [
    "## Visualizing the best-fit line:\n",
    "\n"
   ]
  },
  {
   "cell_type": "code",
   "execution_count": 16,
   "metadata": {
    "colab": {
     "base_uri": "https://localhost:8080/",
     "height": 312
    },
    "executionInfo": {
     "elapsed": 541,
     "status": "ok",
     "timestamp": 1622548970914,
     "user": {
      "displayName": "Quirky Accentuator",
      "photoUrl": "",
      "userId": "01762020074220621930"
     },
     "user_tz": -330
    },
    "id": "UnbiKfX3UonB",
    "outputId": "21998ec2-9ce4-4dfc-af25-ed2e8ea24984",
    "scrolled": true
   },
   "outputs": [
    {
     "data": {
      "text/plain": [
       "[<matplotlib.lines.Line2D at 0x253f0ff2cd0>]"
      ]
     },
     "execution_count": 16,
     "metadata": {},
     "output_type": "execute_result"
    },
    {
     "data": {
      "image/png": "[encoded data removed]",
      "text/plain": [
       "<Figure size 432x288 with 1 Axes>"
      ]
     },
     "metadata": {
      "needs_background": "light"
     },
     "output_type": "display_data"
    }
   ],
   "source": [
    "plt.scatter(X, y)\n",
    "plt.xlabel('Hours')\n",
    "plt.ylabel('Scores')\n",
    "plt.title('correlation b/w hours and scores.')\n",
    "plt.plot(X, y_pred, color='r')"
   ]
  },
  {
   "cell_type": "markdown",
   "metadata": {
    "id": "VIf_ROTsb9e0"
   },
   "source": [
    "## Performance Metrics\n"
   ]
  },
  {
   "cell_type": "code",
   "execution_count": 17,
   "metadata": {
    "colab": {
     "base_uri": "https://localhost:8080/"
    },
    "executionInfo": {
     "elapsed": 11,
     "status": "ok",
     "timestamp": 1622548974394,
     "user": {
      "displayName": "Quirky Accentuator",
      "photoUrl": "",
      "userId": "01762020074220621930"
     },
     "user_tz": -330
    },
    "id": "llpSqpg4V86u",
    "outputId": "0b4821ab-8370-4e93-efeb-bc04f75d1fd7"
   },
   "outputs": [
    {
     "data": {
      "text/plain": [
       "0.9529481969048356"
      ]
     },
     "execution_count": 17,
     "metadata": {},
     "output_type": "execute_result"
    }
   ],
   "source": [
    "from sklearn.metrics import r2_score, mean_absolute_error, mean_squared_error\n",
    "r2 = r2_score(y, y_pred)\n",
    "r2"
   ]
  },
  {
   "cell_type": "code",
   "execution_count": 18,
   "metadata": {
    "colab": {
     "base_uri": "https://localhost:8080/"
    },
    "executionInfo": {
     "elapsed": 6,
     "status": "ok",
     "timestamp": 1622548976128,
     "user": {
      "displayName": "Quirky Accentuator",
      "photoUrl": "",
      "userId": "01762020074220621930"
     },
     "user_tz": -330
    },
    "id": "5d0tI-HvW5Pd",
    "outputId": "28c07dbb-eb1f-4707-9601-6a96869711d9"
   },
   "outputs": [
    {
     "data": {
      "text/plain": [
       "4.972805319866375"
      ]
     },
     "execution_count": 18,
     "metadata": {},
     "output_type": "execute_result"
    }
   ],
   "source": [
    "mean_absolute_error(y, y_pred)"
   ]
  },
  {
   "cell_type": "code",
   "execution_count": 19,
   "metadata": {
    "colab": {
     "base_uri": "https://localhost:8080/"
    },
    "executionInfo": {
     "elapsed": 649,
     "status": "ok",
     "timestamp": 1622548978946,
     "user": {
      "displayName": "Quirky Accentuator",
      "photoUrl": "",
      "userId": "01762020074220621930"
     },
     "user_tz": -330
    },
    "id": "niT-uhQGXDpj",
    "outputId": "4027fb65-887d-498c-9878-c877c718fcdf"
   },
   "outputs": [
    {
     "data": {
      "text/plain": [
       "28.88273050924546"
      ]
     },
     "execution_count": 19,
     "metadata": {},
     "output_type": "execute_result"
    }
   ],
   "source": [
    "mean_squared_error(y, y_pred)"
   ]
  }
 ],
 "metadata": {
  "colab": {
   "authorship_tag": "ABX9TyOc8Hfry5MfjNRgA7rhcA/w",
   "collapsed_sections": [],
   "mount_file_id": "1pmMkmLUeUc5f5ilKc3uX2cnqeLnkP8jN",
   "name": "Task1-Predicting the scores of a student.ipynb",
   "provenance": []
  },
  "kernelspec": {
   "display_name": "Python 3",
   "language": "python",
   "name": "python3"
  },
  "language_info": {
   "codemirror_mode": {
    "name": "ipython",
    "version": 3
   },
   "file_extension": ".py",
   "mimetype": "text/x-python",
   "name": "python",
   "nbconvert_exporter": "python",
   "pygments_lexer": "ipython3",
   "version": "3.9.0"
  }
 },
 "nbformat": 4,
 "nbformat_minor": 1
}
