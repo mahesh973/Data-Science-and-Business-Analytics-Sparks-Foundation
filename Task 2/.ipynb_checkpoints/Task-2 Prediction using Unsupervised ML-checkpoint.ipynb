{
 "cells": [
  {
   "cell_type": "markdown",
   "metadata": {},
   "source": [
    "# Task 2: Prediction using Unsupervised ML.\n",
    "\n",
    "### Here, we will take the Iris dataset and divide it into clusters using the K-Means Clustering Algorithm.\n",
    "### Done by : Mahesh Babu"
   ]
  },
  {
   "cell_type": "markdown",
   "metadata": {},
   "source": [
    "### Step 1: Importing the necessary libraries."
   ]
  },
  {
   "cell_type": "code",
   "execution_count": null,
   "metadata": {
    "id": "Py7ygoH2bWnW"
   },
   "outputs": [],
   "source": [
    "import pandas as pd\n",
    "import numpy as np\n",
    "import matplotlib.pyplot as plt\n",
    "import warnings\n",
    "warnings.filterwarnings('ignore')"
   ]
  },
  {
   "cell_type": "code",
   "execution_count": null,
   "metadata": {
    "colab": {
     "base_uri": "https://localhost:8080/",
     "height": 387
    },
    "id": "-54bSKEZbnsR",
    "outputId": "0dbc14ba-64c4-4d0c-8b60-ac6a5e3ab058"
   },
   "outputs": [],
   "source": [
    "df = pd.read_csv('Iris.csv')\n",
    "df.head(5)"
   ]
  },
  {
   "cell_type": "markdown",
   "metadata": {},
   "source": [
    "### Step 2: Mapping the values {0,1,2} onto the names of the species."
   ]
  },
  {
   "cell_type": "code",
   "execution_count": null,
   "metadata": {
    "colab": {
     "base_uri": "https://localhost:8080/",
     "height": 419
    },
    "id": "lQnCa1CYklBK",
    "outputId": "f8ea60d9-f330-40e2-e462-079c243b276f"
   },
   "outputs": [],
   "source": [
    "di = {'Iris-setosa':0,'Iris-versicolor':1,'Iris-virginica':2}\n",
    "df.Species = df['Species'].map(di)\n",
    "df.head()"
   ]
  },
  {
   "cell_type": "code",
   "execution_count": null,
   "metadata": {
    "colab": {
     "base_uri": "https://localhost:8080/"
    },
    "id": "ruJtcEQybsqS",
    "outputId": "3842afc8-1a15-4f54-d1f0-573c8c9d434b"
   },
   "outputs": [],
   "source": [
    "df.shape"
   ]
  },
  {
   "cell_type": "code",
   "execution_count": null,
   "metadata": {
    "colab": {
     "base_uri": "https://localhost:8080/",
     "height": 419
    },
    "id": "Cxd5i4fKcQPU",
    "outputId": "12198a73-a22e-4914-c484-4ef77497b461"
   },
   "outputs": [],
   "source": [
    "df1 = df.drop(['Id', 'Species'], axis=1)\n",
    "df1.head()"
   ]
  },
  {
   "cell_type": "code",
   "execution_count": null,
   "metadata": {
    "id": "-Z6w70Xwe9Oe"
   },
   "outputs": [],
   "source": [
    "from sklearn.preprocessing import MinMaxScaler\n",
    "mi = MinMaxScaler()\n",
    "X = mi.fit_transform(df1)"
   ]
  },
  {
   "cell_type": "markdown",
   "metadata": {},
   "source": [
    "### Step 3: Importing the K-means method from sklearn and fitting the data."
   ]
  },
  {
   "cell_type": "code",
   "execution_count": null,
   "metadata": {
    "colab": {
     "base_uri": "https://localhost:8080/"
    },
    "id": "F6L0UbzGcfiA",
    "outputId": "728e4f7f-5420-41b4-b7d7-53c12e34c999"
   },
   "outputs": [],
   "source": [
    "from sklearn.cluster import KMeans\n",
    "km = KMeans(n_clusters = 3)\n",
    "y_pred = km.fit_predict(X)\n",
    "y_pred"
   ]
  },
  {
   "cell_type": "markdown",
   "metadata": {},
   "source": [
    "### Step 4: Calculating and plotting the SSE using inertia of the trained examples."
   ]
  },
  {
   "cell_type": "code",
   "execution_count": null,
   "metadata": {
    "colab": {
     "base_uri": "https://localhost:8080/"
    },
    "id": "N90YMI8YfS9k",
    "outputId": "b3bb89e0-7b1b-48f2-c7cf-124148b47c3b"
   },
   "outputs": [],
   "source": [
    "sse = []\n",
    "for i in range(1,10):\n",
    "    km = KMeans(n_clusters = i)\n",
    "    km.fit(X)\n",
    "    sse.append(km.inertia_)\n",
    "print(sse)"
   ]
  },
  {
   "cell_type": "markdown",
   "metadata": {},
   "source": [
    "### Step 5 : Finding Optimal number of clusters using Elbow Method"
   ]
  },
  {
   "cell_type": "code",
   "execution_count": null,
   "metadata": {
    "colab": {
     "base_uri": "https://localhost:8080/",
     "height": 282
    },
    "id": "JA_aP5Iafdjg",
    "outputId": "600f482a-ecd5-4329-f904-2a95327c9711"
   },
   "outputs": [],
   "source": [
    "plt.plot(range(1,10), sse)"
   ]
  },
  {
   "cell_type": "markdown",
   "metadata": {},
   "source": [
    "### Step 6: Training using optimal clusters"
   ]
  },
  {
   "cell_type": "code",
   "execution_count": null,
   "metadata": {
    "id": "Wci7Nn59gFfo"
   },
   "outputs": [],
   "source": [
    "km = KMeans(n_clusters = 3)\n",
    "y_pred = km.fit_predict(X)"
   ]
  },
  {
   "cell_type": "markdown",
   "metadata": {},
   "source": [
    "### Step 7: Plotting the clusters and the centroids of the three categories."
   ]
  },
  {
   "cell_type": "code",
   "execution_count": null,
   "metadata": {
    "colab": {
     "base_uri": "https://localhost:8080/",
     "height": 282
    },
    "id": "iyy5hHBXgBHF",
    "outputId": "d9785763-7c64-4aa0-b024-eb1c3f3db880"
   },
   "outputs": [],
   "source": [
    "plt.scatter(X[y_pred==0,0],X[y_pred==0,1],color='r', label='Setosa')\n",
    "plt.scatter(X[y_pred==1,0],X[y_pred==1,1],color='b', label='Virginica')\n",
    "plt.scatter(X[y_pred==2,0],X[y_pred==2,1],color='g', label='Versicolor')\n",
    "plt.scatter(km.cluster_centers_[:,0], km.cluster_centers_[:,1], color='black', label='Centroid')\n",
    "plt.legend(loc='best')"
   ]
  }
 ],
 "metadata": {
  "colab": {
   "collapsed_sections": [],
   "name": "Task 2.ipynb",
   "provenance": []
  },
  "kernelspec": {
   "display_name": "Python 3",
   "language": "python",
   "name": "python3"
  },
  "language_info": {
   "codemirror_mode": {
    "name": "ipython",
    "version": 3
   },
   "file_extension": ".py",
   "mimetype": "text/x-python",
   "name": "python",
   "nbconvert_exporter": "python",
   "pygments_lexer": "ipython3",
   "version": "3.9.0"
  }
 },
 "nbformat": 4,
 "nbformat_minor": 1
}
